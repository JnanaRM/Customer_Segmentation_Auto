{
  "nbformat": 4,
  "nbformat_minor": 0,
  "metadata": {
    "kernelspec": {
      "display_name": "Python 3",
      "language": "python",
      "name": "python3"
    },
    "language_info": {
      "codemirror_mode": {
        "name": "ipython",
        "version": 3
      },
      "file_extension": ".py",
      "mimetype": "text/x-python",
      "name": "python",
      "nbconvert_exporter": "python",
      "pygments_lexer": "ipython3",
      "version": "3.7.1"
    },
    "colab": {
      "name": "Capstone_GA.ipynb",
      "provenance": [],
      "collapsed_sections": []
    }
  },
  "cells": [
    {
      "cell_type": "code",
      "metadata": {
        "id": "K1V-jMRRpUaI",
        "colab_type": "code",
        "colab": {}
      },
      "source": [
        "import pandas as pd\n",
        "import numpy as np\n",
        "import seaborn as sns\n",
        "from sklearn.cluster import KMeans\n",
        "from sklearn.model_selection import train_test_split\n",
        "import scipy.stats as stats\n",
        "from matplotlib import pyplot as plt\n",
        "from mpl_toolkits.mplot3d import Axes3D\n",
        "from sklearn.preprocessing import StandardScaler\n",
        "%matplotlib inline\n",
        "import warnings\n",
        "warnings.filterwarnings('ignore')\n",
        "from matplotlib.pylab import rcParams\n",
        "rcParams['figure.figsize'] = 14,8\n"
      ],
      "execution_count": 0,
      "outputs": []
    },
    {
      "cell_type": "code",
      "metadata": {
        "id": "MhFzsQPEMEL9",
        "colab_type": "code",
        "outputId": "875e4bc5-25fd-4ff8-d4dd-c5a2d843e4cd",
        "colab": {
          "base_uri": "https://localhost:8080/",
          "height": 122
        }
      },
      "source": [
        "from google.colab import drive\n",
        "drive.mount('/content/drive')"
      ],
      "execution_count": 2,
      "outputs": [
        {
          "output_type": "stream",
          "text": [
            "Go to this URL in a browser: https://accounts.google.com/o/oauth2/auth?client_id=947318989803-6bn6qk8qdgf4n4g3pfee6491hc0brc4i.apps.googleusercontent.com&redirect_uri=urn%3aietf%3awg%3aoauth%3a2.0%3aoob&response_type=code&scope=email%20https%3a%2f%2fwww.googleapis.com%2fauth%2fdocs.test%20https%3a%2f%2fwww.googleapis.com%2fauth%2fdrive%20https%3a%2f%2fwww.googleapis.com%2fauth%2fdrive.photos.readonly%20https%3a%2f%2fwww.googleapis.com%2fauth%2fpeopleapi.readonly\n",
            "\n",
            "Enter your authorization code:\n",
            "··········\n",
            "Mounted at /content/drive\n"
          ],
          "name": "stdout"
        }
      ]
    },
    {
      "cell_type": "code",
      "metadata": {
        "id": "4rQdLT7MpUao",
        "colab_type": "code",
        "colab": {}
      },
      "source": [
        "\n",
        "jtd = pd.read_csv(r'/content/drive/My Drive/colab/JTD.csv')\n",
        "inv= pd.read_csv(r'/content/drive/My Drive/colab/Final_invoice.csv')\n",
        "cust = pd.ExcelFile(r'/content/drive/My Drive/colab/customer.xlsx').parse('Sheet1')"
      ],
      "execution_count": 0,
      "outputs": []
    },
    {
      "cell_type": "code",
      "metadata": {
        "id": "ov_YwCFGpUbU",
        "colab_type": "code",
        "colab": {}
      },
      "source": [
        "pd.set_option('display.max_columns', None)\n",
        "pd.set_option('display.max_rows', None)"
      ],
      "execution_count": 0,
      "outputs": []
    },
    {
      "cell_type": "code",
      "metadata": {
        "id": "PRQcgOLBpUbl",
        "colab_type": "code",
        "outputId": "5d58fa42-f9a5-47e9-fa96-b4ed81e6eaa6",
        "colab": {
          "base_uri": "https://localhost:8080/",
          "height": 68
        }
      },
      "source": [
        "print('JTD shape',jtd.shape)\n",
        "print('INV shape',inv.shape)\n",
        "print('cust shape',cust.shape)"
      ],
      "execution_count": 5,
      "outputs": [
        {
          "output_type": "stream",
          "text": [
            "JTD shape (5619484, 10)\n",
            "INV shape (492314, 59)\n",
            "cust shape (555338, 9)\n"
          ],
          "name": "stdout"
        }
      ]
    },
    {
      "cell_type": "code",
      "metadata": {
        "id": "udjqZ1W8pUcN",
        "colab_type": "code",
        "colab": {}
      },
      "source": [
        "df1 = inv.drop(['Unnamed: 0'],axis=1)"
      ],
      "execution_count": 0,
      "outputs": []
    },
    {
      "cell_type": "code",
      "metadata": {
        "id": "swsgRomkpUcv",
        "colab_type": "code",
        "colab": {}
      },
      "source": [
        "df2 = jtd.drop(['Unnamed: 0'],axis=1)"
      ],
      "execution_count": 0,
      "outputs": []
    },
    {
      "cell_type": "code",
      "metadata": {
        "id": "WzklKk-wpUdg",
        "colab_type": "code",
        "colab": {}
      },
      "source": [
        "cust['Customer No.'] = cust['Customer No.'].str.strip()\n",
        "df1['Customer No.'] = df1['Customer No.'].str.strip()"
      ],
      "execution_count": 0,
      "outputs": []
    },
    {
      "cell_type": "code",
      "metadata": {
        "id": "Uqj9d_OepUdv",
        "colab_type": "code",
        "colab": {}
      },
      "source": [
        "df = pd.merge(df1,cust, on='Customer No.',how='left')"
      ],
      "execution_count": 0,
      "outputs": []
    },
    {
      "cell_type": "code",
      "metadata": {
        "id": "e9Z-Rl0GpUd-",
        "colab_type": "code",
        "outputId": "4c21beb2-0f58-4580-d492-7afe2c2e234d",
        "colab": {
          "base_uri": "https://localhost:8080/",
          "height": 34
        }
      },
      "source": [
        "df.shape"
      ],
      "execution_count": 10,
      "outputs": [
        {
          "output_type": "execute_result",
          "data": {
            "text/plain": [
              "(492314, 66)"
            ]
          },
          "metadata": {
            "tags": []
          },
          "execution_count": 10
        }
      ]
    },
    {
      "cell_type": "code",
      "metadata": {
        "id": "UQGcYVN_pUeO",
        "colab_type": "code",
        "colab": {}
      },
      "source": [
        "#df = pd.merge(res1,df2,how='left',left_on='Job Card No',right_on='DBM Order')"
      ],
      "execution_count": 0,
      "outputs": []
    },
    {
      "cell_type": "code",
      "metadata": {
        "id": "LysM_GEHpUeu",
        "colab_type": "code",
        "colab": {}
      },
      "source": [
        "#df.drop(['Job Card No'],axis=1,inplace=True)"
      ],
      "execution_count": 0,
      "outputs": []
    },
    {
      "cell_type": "code",
      "metadata": {
        "id": "YDUPpNyBpUfm",
        "colab_type": "code",
        "colab": {}
      },
      "source": [
        "df_null = df.isnull().sum()/df.shape[0] * 100"
      ],
      "execution_count": 0,
      "outputs": []
    },
    {
      "cell_type": "code",
      "metadata": {
        "id": "d0gVWuxxpUfz",
        "colab_type": "code",
        "colab": {}
      },
      "source": [
        "drop_cols = df_null.index[df_null.values > 90].tolist()"
      ],
      "execution_count": 0,
      "outputs": []
    },
    {
      "cell_type": "code",
      "metadata": {
        "id": "-cQxi_Q5pUgA",
        "colab_type": "code",
        "colab": {}
      },
      "source": [
        "df_new = df.drop(drop_cols,axis=1)"
      ],
      "execution_count": 0,
      "outputs": []
    },
    {
      "cell_type": "code",
      "metadata": {
        "id": "iBQ_tRyXpUgN",
        "colab_type": "code",
        "outputId": "ad163672-ae95-4bd2-e431-16650cdc93b8",
        "colab": {
          "base_uri": "https://localhost:8080/",
          "height": 34
        }
      },
      "source": [
        "df_new.shape"
      ],
      "execution_count": 16,
      "outputs": [
        {
          "output_type": "execute_result",
          "data": {
            "text/plain": [
              "(492314, 51)"
            ]
          },
          "metadata": {
            "tags": []
          },
          "execution_count": 16
        }
      ]
    },
    {
      "cell_type": "code",
      "metadata": {
        "scrolled": true,
        "id": "rRLu8MgypUgf",
        "colab_type": "code",
        "outputId": "39f5bbe8-327c-4d79-9143-18f6c97d6d47",
        "colab": {
          "base_uri": "https://localhost:8080/",
          "height": 901
        }
      },
      "source": [
        "df_new.isnull().sum()/df_new.shape[0] * 100"
      ],
      "execution_count": 17,
      "outputs": [
        {
          "output_type": "execute_result",
          "data": {
            "text/plain": [
              "Amt Rcvd From Custom    40.073205\n",
              "Amt Rcvd From Ins Co    40.073205\n",
              "Area / Locality          4.852594\n",
              "CGST(14%)               40.073205\n",
              "CGST(2.5%)              40.073205\n",
              "CGST(6%)                40.073205\n",
              "CGST(9%)                40.073205\n",
              "CITY                     0.000203\n",
              "Cust Type                0.000000\n",
              "Customer No.             0.000000\n",
              "District                 0.000000\n",
              "Gate Pass Time           0.000000\n",
              "IGST(12%)               40.073205\n",
              "IGST(18%)               40.073205\n",
              "IGST(28%)               40.073205\n",
              "IGST(5%)                40.073205\n",
              "Invoice Date             0.000000\n",
              "Invoice No               0.000000\n",
              "Invoice Time             0.000000\n",
              "Job Card No              0.000000\n",
              "JobCard Date             0.000000\n",
              "JobCard Time             0.000000\n",
              "KMs Reading              0.000000\n",
              "Labour Total             0.000000\n",
              "Make                     0.000000\n",
              "Misc Total               0.000000\n",
              "Model                    0.309762\n",
              "ODN No.                 40.073205\n",
              "OSL Total                0.000000\n",
              "Order Type               0.000000\n",
              "Outstanding Amt         40.073205\n",
              "Parts Total              0.000000\n",
              "Pin code                 0.000000\n",
              "Plant                    0.000000\n",
              "Plant Name1              0.000000\n",
              "Print Status             0.000000\n",
              "Recovrbl Exp             0.000000\n",
              "Regn No                  0.003250\n",
              "SGST/UGST(14%)          40.073205\n",
              "SGST/UGST(2.5%)         40.073205\n",
              "SGST/UGST(6%)           40.073205\n",
              "SGST/UGST(9%)           40.073205\n",
              "TDS amount              40.073205\n",
              "Technician Name         48.106290\n",
              "Total Amt Wtd Tax.       0.000000\n",
              "Total CGST              40.073205\n",
              "Total GST               40.073205\n",
              "Total IGST              40.073205\n",
              "Total SGST/UGST         40.073205\n",
              "Total Value             40.073205\n",
              "User ID                  0.000000\n",
              "dtype: float64"
            ]
          },
          "metadata": {
            "tags": []
          },
          "execution_count": 17
        }
      ]
    },
    {
      "cell_type": "markdown",
      "metadata": {
        "id": "6hWbImQLpUgv",
        "colab_type": "text"
      },
      "source": [
        "# Areas with most cars"
      ]
    },
    {
      "cell_type": "code",
      "metadata": {
        "id": "ErvcP_aIpUgz",
        "colab_type": "code",
        "colab": {}
      },
      "source": [
        "df_city = df_new.groupby(['CITY'])['Regn No'].nunique()"
      ],
      "execution_count": 0,
      "outputs": []
    },
    {
      "cell_type": "code",
      "metadata": {
        "id": "jArdUe24pUhA",
        "colab_type": "code",
        "colab": {}
      },
      "source": [
        "area_mostcars = df_city.sort_values(ascending=False).head(10)"
      ],
      "execution_count": 0,
      "outputs": []
    },
    {
      "cell_type": "code",
      "metadata": {
        "id": "1ZDXVwDMpUhM",
        "colab_type": "code",
        "outputId": "511fe8f2-1b5f-4861-decc-4ed5638c92ab",
        "colab": {
          "base_uri": "https://localhost:8080/",
          "height": 554
        }
      },
      "source": [
        "area_mostcars.plot(kind=\"bar\",color= list('rgbkymc'))\n",
        "plt.xlabel('City')\n",
        "plt.ylabel('Count')\n",
        "plt.xticks(rotation=90)\n",
        "plt.show()"
      ],
      "execution_count": 20,
      "outputs": [
        {
          "output_type": "display_data",
          "data": {
            "image/png": "[encoded data removed]",
            "text/plain": [
              "<Figure size 1008x576 with 1 Axes>"
            ]
          },
          "metadata": {
            "tags": []
          }
        }
      ]
    },
    {
      "cell_type": "markdown",
      "metadata": {
        "id": "hVaZjB-ipUhb",
        "colab_type": "text"
      },
      "source": [
        "# Popular Car Brands"
      ]
    },
    {
      "cell_type": "code",
      "metadata": {
        "id": "q4KUNrpspUhh",
        "colab_type": "code",
        "colab": {}
      },
      "source": [
        "df_carbrand = df_new.groupby(['Make'])['Regn No'].nunique().sort_values(ascending=False)"
      ],
      "execution_count": 0,
      "outputs": []
    },
    {
      "cell_type": "code",
      "metadata": {
        "id": "ZhIy6yZtpUht",
        "colab_type": "code",
        "colab": {}
      },
      "source": [
        "popular_carbrand = df_carbrand.head(10)"
      ],
      "execution_count": 0,
      "outputs": []
    },
    {
      "cell_type": "code",
      "metadata": {
        "id": "dOFc_lx7pUh6",
        "colab_type": "code",
        "outputId": "6deb12d1-ddad-48f8-f0c2-0690c6c090e1",
        "colab": {
          "base_uri": "https://localhost:8080/",
          "height": 614
        }
      },
      "source": [
        "popular_carbrand.plot(kind=\"bar\",color= list('rgbkymc'))\n",
        "plt.xlabel('Brand')\n",
        "plt.ylabel('Count')\n",
        "plt.xticks(rotation=90)\n",
        "plt.show()"
      ],
      "execution_count": 23,
      "outputs": [
        {
          "output_type": "display_data",
          "data": {
            "image/png": "[encoded data removed]",
            "text/plain": [
              "<Figure size 1008x576 with 1 Axes>"
            ]
          },
          "metadata": {
            "tags": []
          }
        }
      ]
    },
    {
      "cell_type": "markdown",
      "metadata": {
        "id": "FijYz2bMpUiJ",
        "colab_type": "text"
      },
      "source": [
        "# Popular Service Type"
      ]
    },
    {
      "cell_type": "code",
      "metadata": {
        "id": "syjpVf5qpUiN",
        "colab_type": "code",
        "outputId": "45a51c13-8904-480b-be2e-20b086d18f26",
        "colab": {
          "base_uri": "https://localhost:8080/",
          "height": 187
        }
      },
      "source": [
        "service_type = df_new['Order Type'].value_counts().sort_values(ascending=False)\n",
        "service_type"
      ],
      "execution_count": 24,
      "outputs": [
        {
          "output_type": "execute_result",
          "data": {
            "text/plain": [
              "Running Repairs      269455\n",
              "Paid Service         135004\n",
              "Accidental            44159\n",
              "SMC Redemption        15738\n",
              "Mechanical            15100\n",
              "SMC Value Package      9781\n",
              "Repeat Order           3043\n",
              "WBW Order                17\n",
              "Workshop Damage          17\n",
              "Name: Order Type, dtype: int64"
            ]
          },
          "metadata": {
            "tags": []
          },
          "execution_count": 24
        }
      ]
    },
    {
      "cell_type": "code",
      "metadata": {
        "id": "bTdEfmwopUih",
        "colab_type": "code",
        "outputId": "7f8dcdd2-8783-4349-b13d-ffe82cdfa5c5",
        "colab": {
          "base_uri": "https://localhost:8080/",
          "height": 585
        }
      },
      "source": [
        "service_type.plot(kind=\"bar\",color= list('rgbkymc'))\n",
        "plt.xlabel('Service Type')\n",
        "plt.ylabel('Count')\n",
        "plt.xticks(rotation=90)\n",
        "plt.show()"
      ],
      "execution_count": 25,
      "outputs": [
        {
          "output_type": "display_data",
          "data": {
            "image/png": "[encoded data removed]",
            "text/plain": [
              "<Figure size 1008x576 with 1 Axes>"
            ]
          },
          "metadata": {
            "tags": []
          }
        }
      ]
    },
    {
      "cell_type": "markdown",
      "metadata": {
        "id": "xXB0En6xpUiv",
        "colab_type": "text"
      },
      "source": [
        "# Services popular with different brand of cars"
      ]
    },
    {
      "cell_type": "code",
      "metadata": {
        "id": "hYioyCuvpUiz",
        "colab_type": "code",
        "outputId": "3de4a7f1-0f6c-43a3-b337-fcebeeac789b",
        "colab": {
          "base_uri": "https://localhost:8080/",
          "height": 720
        }
      },
      "source": [
        "res = df_new.groupby(['Make', 'Order Type']).size().sort_values(ascending=False).unstack()\n",
        "res.plot(kind='barh', stacked=True, figsize=(20,12))\n",
        "plt.show()"
      ],
      "execution_count": 26,
      "outputs": [
        {
          "output_type": "display_data",
          "data": {
            "image/png": "[encoded data removed]",
            "text/plain": [
              "<Figure size 1440x864 with 1 Axes>"
            ]
          },
          "metadata": {
            "tags": []
          }
        }
      ]
    },
    {
      "cell_type": "markdown",
      "metadata": {
        "id": "gX76p-fCpUjA",
        "colab_type": "text"
      },
      "source": [
        "# Average cost of each service"
      ]
    },
    {
      "cell_type": "code",
      "metadata": {
        "id": "UBxe55hqpUjD",
        "colab_type": "code",
        "colab": {}
      },
      "source": [
        "service_cost = df_new.groupby(['Order Type'])['Total Amt Wtd Tax.'].mean().sort_values(ascending=False)"
      ],
      "execution_count": 0,
      "outputs": []
    },
    {
      "cell_type": "code",
      "metadata": {
        "id": "WZ9JdJwTpUjP",
        "colab_type": "code",
        "outputId": "f4da28bb-be51-43a9-de5f-e80adc320ab5",
        "colab": {
          "base_uri": "https://localhost:8080/",
          "height": 585
        }
      },
      "source": [
        "service_cost.plot(kind=\"bar\",color= list('rgbkymc'))\n",
        "plt.xlabel('Service Cost')\n",
        "plt.ylabel('Amount')\n",
        "plt.xticks(rotation=90)\n",
        "plt.show()"
      ],
      "execution_count": 28,
      "outputs": [
        {
          "output_type": "display_data",
          "data": {
            "image/png": "[encoded data removed]",
            "text/plain": [
              "<Figure size 1008x576 with 1 Axes>"
            ]
          },
          "metadata": {
            "tags": []
          }
        }
      ]
    },
    {
      "cell_type": "markdown",
      "metadata": {
        "id": "TXFrAQUJpUjd",
        "colab_type": "text"
      },
      "source": [
        "# Seasonality of different Services"
      ]
    },
    {
      "cell_type": "code",
      "metadata": {
        "id": "WLMtqvFMpUji",
        "colab_type": "code",
        "colab": {}
      },
      "source": [
        "df_new['Invoice Date'] = pd.to_datetime(df_new['Invoice Date'])\n",
        "df_daily = df_new[['Invoice Date','Order Type']]"
      ],
      "execution_count": 0,
      "outputs": []
    },
    {
      "cell_type": "code",
      "metadata": {
        "id": "CV0bQ_ticu7C",
        "colab_type": "code",
        "colab": {}
      },
      "source": [
        "df_daily_ps = df_daily[df_daily['Order Type']=='Paid Service']\n",
        "df_daily_rr = df_daily[df_daily['Order Type']=='Running Repairs']\n",
        "df_daily_a = df_daily[df_daily['Order Type']=='Accidental']\n",
        "df_daily_svp = df_daily[df_daily['Order Type']=='SMC Value Package']\n",
        "df_daily_m = df_daily[df_daily['Order Type']=='Mechanical']\n",
        "df_daily_sr = df_daily[df_daily['Order Type']=='SMC Redemption']\n",
        "ps_daily = df_daily_ps.groupby(['Invoice Date'])['Order Type'].size()\n",
        "rr_daily = df_daily_rr.groupby(['Invoice Date'])['Order Type'].size()\n",
        "a_daily = df_daily_a.groupby(['Invoice Date'])['Order Type'].size()\n",
        "svp_daily = df_daily_svp.groupby(['Invoice Date'])['Order Type'].size()\n",
        "m_daily = df_daily_m.groupby(['Invoice Date'])['Order Type'].size()\n",
        "sr_daily = df_daily_sr.groupby(['Invoice Date'])['Order Type'].size()"
      ],
      "execution_count": 0,
      "outputs": []
    },
    {
      "cell_type": "code",
      "metadata": {
        "id": "jejI5sy3pUkO",
        "colab_type": "code",
        "colab": {}
      },
      "source": [
        "ps_monthly = ps_daily.resample('MS').sum()\n",
        "rr_monthly = rr_daily.resample('MS').sum()\n",
        "a_monthly = a_daily.resample('MS').sum()\n",
        "svp_monthly = svp_daily.resample('MS').sum()\n",
        "m_monthly = m_daily.resample('4W').sum()\n",
        "sr_monthly = sr_daily.resample('MS').sum()"
      ],
      "execution_count": 0,
      "outputs": []
    },
    {
      "cell_type": "code",
      "metadata": {
        "id": "5zZDIsm6W4vv",
        "colab_type": "code",
        "outputId": "7602c74e-6753-4d23-891d-43dadd77342d",
        "colab": {
          "base_uri": "https://localhost:8080/",
          "height": 497
        }
      },
      "source": [
        "#service_list = ['Paid Service','Running Repairs','Accidental','SMC Value Package','Mechanical','SMC Redemption']\n",
        "plt.plot(ps_monthly,label = 'Paid Service')\n",
        "plt.plot(rr_monthly,label = 'Running Repairs')\n",
        "plt.plot(a_monthly,label = 'Accidental')\n",
        "plt.plot(svp_monthly,label = 'SMC Value Package')\n",
        "plt.plot(sr_monthly,label = 'SMC Redemption')\n",
        "plt.plot(m_monthly,label = 'Mechanical')\n",
        "plt.xlabel('Date')\n",
        "plt.ylabel('Count')\n",
        "plt.legend()\n",
        "plt.show()"
      ],
      "execution_count": 32,
      "outputs": [
        {
          "output_type": "display_data",
          "data": {
            "image/png": "[encoded data removed]",
            "text/plain": [
              "<Figure size 1008x576 with 1 Axes>"
            ]
          },
          "metadata": {
            "tags": []
          }
        }
      ]
    },
    {
      "cell_type": "code",
      "metadata": {
        "id": "Mnk0i7jJbtnB",
        "colab_type": "code",
        "colab": {}
      },
      "source": [
        ""
      ],
      "execution_count": 0,
      "outputs": []
    },
    {
      "cell_type": "markdown",
      "metadata": {
        "id": "yiSzDMvtkXio",
        "colab_type": "text"
      },
      "source": [
        "## Customer Segmentation using RFM\n",
        "\n",
        "\n"
      ]
    },
    {
      "cell_type": "code",
      "metadata": {
        "id": "MYuUUUiCkdta",
        "colab_type": "code",
        "colab": {}
      },
      "source": [
        "#Recency\n",
        "df_recency = df_new.groupby('Customer No.')['Invoice Date'].max().reset_index()\n",
        "df_recency.columns = ['CustomerID','MaxPurchaseDate']\n",
        "df_recency['Recency'] = (df_recency['MaxPurchaseDate'].max() - df_recency['MaxPurchaseDate']).dt.days"
      ],
      "execution_count": 0,
      "outputs": []
    },
    {
      "cell_type": "code",
      "metadata": {
        "id": "Bm-u40ffkiK4",
        "colab_type": "code",
        "outputId": "190d21d2-730d-407e-a68d-d8710b456200",
        "colab": {
          "base_uri": "https://localhost:8080/",
          "height": 497
        }
      },
      "source": [
        "plt.figure(figsize=(12,8))\n",
        "sns.set_style('whitegrid')\n",
        "sns.distplot(df_recency['Recency'],kde=False,color='darkred')\n",
        "plt.show()"
      ],
      "execution_count": 34,
      "outputs": [
        {
          "output_type": "display_data",
          "data": {
            "image/png": "[encoded data removed]",
            "text/plain": [
              "<Figure size 864x576 with 1 Axes>"
            ]
          },
          "metadata": {
            "tags": []
          }
        }
      ]
    },
    {
      "cell_type": "code",
      "metadata": {
        "id": "tJQCZ0IhpM3e",
        "colab_type": "code",
        "outputId": "aaa91edc-eef4-4d61-dccd-0b23722339f2",
        "colab": {
          "base_uri": "https://localhost:8080/",
          "height": 170
        }
      },
      "source": [
        "df_recency['Recency'].describe()"
      ],
      "execution_count": 35,
      "outputs": [
        {
          "output_type": "execute_result",
          "data": {
            "text/plain": [
              "count    253484.000000\n",
              "mean        427.899035\n",
              "std         401.075875\n",
              "min           0.000000\n",
              "25%          97.000000\n",
              "50%         281.000000\n",
              "75%         684.000000\n",
              "max        1673.000000\n",
              "Name: Recency, dtype: float64"
            ]
          },
          "metadata": {
            "tags": []
          },
          "execution_count": 35
        }
      ]
    },
    {
      "cell_type": "code",
      "metadata": {
        "id": "q2qzuu8Qu-kf",
        "colab_type": "code",
        "colab": {}
      },
      "source": [
        "wcss = []\n",
        "for k in range (1,10):\n",
        "    km = KMeans(n_clusters=k,max_iter=1000, random_state=2)\n",
        "\n",
        "    # Initialize KMeans algorithm\n",
        "    km.fit(df_recency[['Recency']])\n",
        "    # Fit on data\n",
        "    wcss.append(km.inertia_)"
      ],
      "execution_count": 0,
      "outputs": []
    },
    {
      "cell_type": "code",
      "metadata": {
        "id": "fWCArXQiQvRk",
        "colab_type": "code",
        "outputId": "0d12e418-994b-401c-dbfb-2723a697bbb2",
        "colab": {
          "base_uri": "https://localhost:8080/",
          "height": 508
        }
      },
      "source": [
        "plt.figure(figsize=(12,8))\n",
        "plt.plot(range(1,10),wcss)\n",
        "# Setting X-axis label\n",
        "plt.xlabel('Number of clusters')\n",
        "# Setting Y-axis label\n",
        "plt.ylabel('WCSS')\n",
        "# Line plot # clusters on X-axis and WCSS on Y-axis \n",
        "plt.show()"
      ],
      "execution_count": 37,
      "outputs": [
        {
          "output_type": "display_data",
          "data": {
            "image/png": "[encoded data removed]",
            "text/plain": [
              "<Figure size 864x576 with 1 Axes>"
            ]
          },
          "metadata": {
            "tags": []
          }
        }
      ]
    },
    {
      "cell_type": "code",
      "metadata": {
        "id": "QrM2SzzvTnDm",
        "colab_type": "code",
        "colab": {}
      },
      "source": [
        "def order_cluster(cluster_field_name, target_field_name,df,ascending):\n",
        "    new_cluster_field_name = 'new_' + cluster_field_name\n",
        "    df_x = df.groupby(cluster_field_name)[target_field_name].mean().reset_index()\n",
        "    df_x = df_x.sort_values(by=target_field_name,ascending=ascending).reset_index(drop=True)\n",
        "    df_x['index'] = df_x.index\n",
        "    df_final = pd.merge(df,df_x[[cluster_field_name,'index']], on=cluster_field_name)\n",
        "    df_final = df_final.drop([cluster_field_name],axis=1)\n",
        "    df_final = df_final.rename(columns={\"index\":cluster_field_name})\n",
        "    return df_final"
      ],
      "execution_count": 0,
      "outputs": []
    },
    {
      "cell_type": "code",
      "metadata": {
        "id": "ExpdQ7RRnPrJ",
        "colab_type": "code",
        "colab": {}
      },
      "source": [
        "pd.options.display.float_format = '{:.2f}'.format"
      ],
      "execution_count": 0,
      "outputs": []
    },
    {
      "cell_type": "code",
      "metadata": {
        "id": "vRbQvTxlRTee",
        "colab_type": "code",
        "colab": {}
      },
      "source": [
        "kmeans = KMeans(n_clusters=4,random_state=2)\n",
        "kmeans.fit(df_recency[['Recency']])\n",
        "df_recency['RecencyCluster'] = kmeans.predict(df_recency[['Recency']])"
      ],
      "execution_count": 0,
      "outputs": []
    },
    {
      "cell_type": "code",
      "metadata": {
        "id": "-nC6DRfOT8hY",
        "colab_type": "code",
        "colab": {}
      },
      "source": [
        "df_recency = order_cluster('RecencyCluster', 'Recency',df_recency,False)"
      ],
      "execution_count": 0,
      "outputs": []
    },
    {
      "cell_type": "code",
      "metadata": {
        "id": "q3n8qhxA53yR",
        "colab_type": "code",
        "outputId": "4613092b-e56d-4220-8320-1b7f31ac04fe",
        "colab": {
          "base_uri": "https://localhost:8080/",
          "height": 235
        }
      },
      "source": [
        "df_recency.groupby('RecencyCluster').describe()"
      ],
      "execution_count": 81,
      "outputs": [
        {
          "output_type": "execute_result",
          "data": {
            "text/html": [
              "<div>\n",
              "<style scoped>\n",
              "    .dataframe tbody tr th:only-of-type {\n",
              "        vertical-align: middle;\n",
              "    }\n",
              "\n",
              "    .dataframe tbody tr th {\n",
              "        vertical-align: top;\n",
              "    }\n",
              "\n",
              "    .dataframe thead tr th {\n",
              "        text-align: left;\n",
              "    }\n",
              "\n",
              "    .dataframe thead tr:last-of-type th {\n",
              "        text-align: right;\n",
              "    }\n",
              "</style>\n",
              "<table border=\"1\" class=\"dataframe\">\n",
              "  <thead>\n",
              "    <tr>\n",
              "      <th></th>\n",
              "      <th colspan=\"8\" halign=\"left\">Recency</th>\n",
              "    </tr>\n",
              "    <tr>\n",
              "      <th></th>\n",
              "      <th>count</th>\n",
              "      <th>mean</th>\n",
              "      <th>std</th>\n",
              "      <th>min</th>\n",
              "      <th>25%</th>\n",
              "      <th>50%</th>\n",
              "      <th>75%</th>\n",
              "      <th>max</th>\n",
              "    </tr>\n",
              "    <tr>\n",
              "      <th>RecencyCluster</th>\n",
              "      <th></th>\n",
              "      <th></th>\n",
              "      <th></th>\n",
              "      <th></th>\n",
              "      <th></th>\n",
              "      <th></th>\n",
              "      <th></th>\n",
              "      <th></th>\n",
              "    </tr>\n",
              "  </thead>\n",
              "  <tbody>\n",
              "    <tr>\n",
              "      <th>0</th>\n",
              "      <td>21947.00</td>\n",
              "      <td>1292.43</td>\n",
              "      <td>155.51</td>\n",
              "      <td>1089.00</td>\n",
              "      <td>1161.00</td>\n",
              "      <td>1256.00</td>\n",
              "      <td>1402.00</td>\n",
              "      <td>1673.00</td>\n",
              "    </tr>\n",
              "    <tr>\n",
              "      <th>1</th>\n",
              "      <td>42716.00</td>\n",
              "      <td>881.86</td>\n",
              "      <td>121.01</td>\n",
              "      <td>674.00</td>\n",
              "      <td>774.00</td>\n",
              "      <td>888.00</td>\n",
              "      <td>985.00</td>\n",
              "      <td>1088.00</td>\n",
              "    </tr>\n",
              "    <tr>\n",
              "      <th>2</th>\n",
              "      <td>60448.00</td>\n",
              "      <td>462.05</td>\n",
              "      <td>111.12</td>\n",
              "      <td>289.00</td>\n",
              "      <td>363.00</td>\n",
              "      <td>458.00</td>\n",
              "      <td>555.00</td>\n",
              "      <td>673.00</td>\n",
              "    </tr>\n",
              "    <tr>\n",
              "      <th>3</th>\n",
              "      <td>128373.00</td>\n",
              "      <td>112.96</td>\n",
              "      <td>82.00</td>\n",
              "      <td>0.00</td>\n",
              "      <td>40.00</td>\n",
              "      <td>99.00</td>\n",
              "      <td>177.00</td>\n",
              "      <td>288.00</td>\n",
              "    </tr>\n",
              "  </tbody>\n",
              "</table>\n",
              "</div>"
            ],
            "text/plain": [
              "                 Recency                                                 \\\n",
              "                   count    mean    std     min     25%     50%     75%   \n",
              "RecencyCluster                                                            \n",
              "0               21947.00 1292.43 155.51 1089.00 1161.00 1256.00 1402.00   \n",
              "1               42716.00  881.86 121.01  674.00  774.00  888.00  985.00   \n",
              "2               60448.00  462.05 111.12  289.00  363.00  458.00  555.00   \n",
              "3              128373.00  112.96  82.00    0.00   40.00   99.00  177.00   \n",
              "\n",
              "                        \n",
              "                   max  \n",
              "RecencyCluster          \n",
              "0              1673.00  \n",
              "1              1088.00  \n",
              "2               673.00  \n",
              "3               288.00  "
            ]
          },
          "metadata": {
            "tags": []
          },
          "execution_count": 81
        }
      ]
    },
    {
      "cell_type": "code",
      "metadata": {
        "id": "CXidIR7f6jY0",
        "colab_type": "code",
        "colab": {}
      },
      "source": [
        "#Frequency\n",
        "df_freq = df_new.groupby('Customer No.')['Invoice No'].count().reset_index()\n",
        "df_freq.columns = ['CustomerID','Frequency']"
      ],
      "execution_count": 0,
      "outputs": []
    },
    {
      "cell_type": "code",
      "metadata": {
        "id": "aEdsNodG9J9N",
        "colab_type": "code",
        "outputId": "fb886c0a-85c9-45c6-fad7-b335f2871b75",
        "colab": {
          "base_uri": "https://localhost:8080/",
          "height": 388
        }
      },
      "source": [
        "plt.figure(figsize=(10,6))\n",
        "sns.set_style('whitegrid')\n",
        "sns.distplot(df_freq['Frequency'],kde=False,color='darkred',bins=np.linspace(0, 30, 30))\n",
        "plt.show()"
      ],
      "execution_count": 83,
      "outputs": [
        {
          "output_type": "display_data",
          "data": {
            "image/png": "[encoded data removed]",
            "text/plain": [
              "<Figure size 720x432 with 1 Axes>"
            ]
          },
          "metadata": {
            "tags": []
          }
        }
      ]
    },
    {
      "cell_type": "code",
      "metadata": {
        "id": "2gKJvXv790Ee",
        "colab_type": "code",
        "colab": {}
      },
      "source": [
        "kmeans = KMeans(n_clusters=4,random_state=2)\n",
        "kmeans.fit(df_freq[['Frequency']])\n",
        "df_freq['FrequencyCluster'] = kmeans.predict(df_freq[['Frequency']])"
      ],
      "execution_count": 0,
      "outputs": []
    },
    {
      "cell_type": "code",
      "metadata": {
        "id": "DxSknzRsRnf6",
        "colab_type": "code",
        "colab": {}
      },
      "source": [
        "df_freq = order_cluster('FrequencyCluster', 'Frequency',df_freq,True)"
      ],
      "execution_count": 0,
      "outputs": []
    },
    {
      "cell_type": "code",
      "metadata": {
        "id": "rfqtp1SSSEEl",
        "colab_type": "code",
        "outputId": "cc91ab6a-dcf5-4d5b-b4cf-41154624d733",
        "colab": {
          "base_uri": "https://localhost:8080/",
          "height": 235
        }
      },
      "source": [
        "df_freq.groupby('FrequencyCluster').describe()"
      ],
      "execution_count": 86,
      "outputs": [
        {
          "output_type": "execute_result",
          "data": {
            "text/html": [
              "<div>\n",
              "<style scoped>\n",
              "    .dataframe tbody tr th:only-of-type {\n",
              "        vertical-align: middle;\n",
              "    }\n",
              "\n",
              "    .dataframe tbody tr th {\n",
              "        vertical-align: top;\n",
              "    }\n",
              "\n",
              "    .dataframe thead tr th {\n",
              "        text-align: left;\n",
              "    }\n",
              "\n",
              "    .dataframe thead tr:last-of-type th {\n",
              "        text-align: right;\n",
              "    }\n",
              "</style>\n",
              "<table border=\"1\" class=\"dataframe\">\n",
              "  <thead>\n",
              "    <tr>\n",
              "      <th></th>\n",
              "      <th colspan=\"8\" halign=\"left\">Frequency</th>\n",
              "    </tr>\n",
              "    <tr>\n",
              "      <th></th>\n",
              "      <th>count</th>\n",
              "      <th>mean</th>\n",
              "      <th>std</th>\n",
              "      <th>min</th>\n",
              "      <th>25%</th>\n",
              "      <th>50%</th>\n",
              "      <th>75%</th>\n",
              "      <th>max</th>\n",
              "    </tr>\n",
              "    <tr>\n",
              "      <th>FrequencyCluster</th>\n",
              "      <th></th>\n",
              "      <th></th>\n",
              "      <th></th>\n",
              "      <th></th>\n",
              "      <th></th>\n",
              "      <th></th>\n",
              "      <th></th>\n",
              "      <th></th>\n",
              "    </tr>\n",
              "  </thead>\n",
              "  <tbody>\n",
              "    <tr>\n",
              "      <th>0</th>\n",
              "      <td>235560.00</td>\n",
              "      <td>1.50</td>\n",
              "      <td>0.83</td>\n",
              "      <td>1.00</td>\n",
              "      <td>1.00</td>\n",
              "      <td>1.00</td>\n",
              "      <td>2.00</td>\n",
              "      <td>4.00</td>\n",
              "    </tr>\n",
              "    <tr>\n",
              "      <th>1</th>\n",
              "      <td>17916.00</td>\n",
              "      <td>7.38</td>\n",
              "      <td>4.76</td>\n",
              "      <td>5.00</td>\n",
              "      <td>5.00</td>\n",
              "      <td>6.00</td>\n",
              "      <td>8.00</td>\n",
              "      <td>157.00</td>\n",
              "    </tr>\n",
              "    <tr>\n",
              "      <th>2</th>\n",
              "      <td>7.00</td>\n",
              "      <td>429.57</td>\n",
              "      <td>161.59</td>\n",
              "      <td>251.00</td>\n",
              "      <td>328.50</td>\n",
              "      <td>360.00</td>\n",
              "      <td>525.50</td>\n",
              "      <td>688.00</td>\n",
              "    </tr>\n",
              "    <tr>\n",
              "      <th>3</th>\n",
              "      <td>1.00</td>\n",
              "      <td>2668.00</td>\n",
              "      <td>nan</td>\n",
              "      <td>2668.00</td>\n",
              "      <td>2668.00</td>\n",
              "      <td>2668.00</td>\n",
              "      <td>2668.00</td>\n",
              "      <td>2668.00</td>\n",
              "    </tr>\n",
              "  </tbody>\n",
              "</table>\n",
              "</div>"
            ],
            "text/plain": [
              "                 Frequency                                                 \\\n",
              "                     count    mean    std     min     25%     50%     75%   \n",
              "FrequencyCluster                                                            \n",
              "0                235560.00    1.50   0.83    1.00    1.00    1.00    2.00   \n",
              "1                 17916.00    7.38   4.76    5.00    5.00    6.00    8.00   \n",
              "2                     7.00  429.57 161.59  251.00  328.50  360.00  525.50   \n",
              "3                     1.00 2668.00    nan 2668.00 2668.00 2668.00 2668.00   \n",
              "\n",
              "                          \n",
              "                     max  \n",
              "FrequencyCluster          \n",
              "0                   4.00  \n",
              "1                 157.00  \n",
              "2                 688.00  \n",
              "3                2668.00  "
            ]
          },
          "metadata": {
            "tags": []
          },
          "execution_count": 86
        }
      ]
    },
    {
      "cell_type": "code",
      "metadata": {
        "id": "66aj2lHMSEy0",
        "colab_type": "code",
        "colab": {}
      },
      "source": [
        "#Monetary Value\n",
        "df_rev = df_new.groupby('Customer No.')['Total Amt Wtd Tax.'].sum().reset_index()\n",
        "df_rev.columns = ['CustomerID','Revenue']"
      ],
      "execution_count": 0,
      "outputs": []
    },
    {
      "cell_type": "code",
      "metadata": {
        "id": "cFrtJAwuTQqv",
        "colab_type": "code",
        "outputId": "b1ff75c9-c898-4fa4-8a7e-564e7ebf73fa",
        "colab": {
          "base_uri": "https://localhost:8080/",
          "height": 392
        }
      },
      "source": [
        "plt.figure(figsize=(10,6))\n",
        "sns.set_style('whitegrid')\n",
        "sns.distplot(df_rev['Revenue'],kde=False,color='darkred',bins=np.linspace(0, 100000, 50))\n",
        "plt.show()"
      ],
      "execution_count": 88,
      "outputs": [
        {
          "output_type": "display_data",
          "data": {
            "image/png": "[encoded data removed]",
            "text/plain": [
              "<Figure size 720x432 with 1 Axes>"
            ]
          },
          "metadata": {
            "tags": []
          }
        }
      ]
    },
    {
      "cell_type": "code",
      "metadata": {
        "id": "kURsISAATrZP",
        "colab_type": "code",
        "colab": {}
      },
      "source": [
        "kmeans = KMeans(n_clusters=4,random_state=2)\n",
        "kmeans.fit(df_rev[['Revenue']])\n",
        "df_rev['RevenueCluster'] = kmeans.predict(df_rev[['Revenue']])"
      ],
      "execution_count": 0,
      "outputs": []
    },
    {
      "cell_type": "code",
      "metadata": {
        "id": "tVjCtLbUVmEn",
        "colab_type": "code",
        "colab": {}
      },
      "source": [
        "df_rev = order_cluster('RevenueCluster', 'Revenue',df_rev,True)"
      ],
      "execution_count": 0,
      "outputs": []
    },
    {
      "cell_type": "code",
      "metadata": {
        "id": "P7IIWImGV5ij",
        "colab_type": "code",
        "outputId": "e100af41-e8d2-42a6-a08d-c722119b68d3",
        "colab": {
          "base_uri": "https://localhost:8080/",
          "height": 235
        }
      },
      "source": [
        "df_rev.groupby('RevenueCluster').describe()"
      ],
      "execution_count": 91,
      "outputs": [
        {
          "output_type": "execute_result",
          "data": {
            "text/html": [
              "<div>\n",
              "<style scoped>\n",
              "    .dataframe tbody tr th:only-of-type {\n",
              "        vertical-align: middle;\n",
              "    }\n",
              "\n",
              "    .dataframe tbody tr th {\n",
              "        vertical-align: top;\n",
              "    }\n",
              "\n",
              "    .dataframe thead tr th {\n",
              "        text-align: left;\n",
              "    }\n",
              "\n",
              "    .dataframe thead tr:last-of-type th {\n",
              "        text-align: right;\n",
              "    }\n",
              "</style>\n",
              "<table border=\"1\" class=\"dataframe\">\n",
              "  <thead>\n",
              "    <tr>\n",
              "      <th></th>\n",
              "      <th colspan=\"8\" halign=\"left\">Revenue</th>\n",
              "    </tr>\n",
              "    <tr>\n",
              "      <th></th>\n",
              "      <th>count</th>\n",
              "      <th>mean</th>\n",
              "      <th>std</th>\n",
              "      <th>min</th>\n",
              "      <th>25%</th>\n",
              "      <th>50%</th>\n",
              "      <th>75%</th>\n",
              "      <th>max</th>\n",
              "    </tr>\n",
              "    <tr>\n",
              "      <th>RevenueCluster</th>\n",
              "      <th></th>\n",
              "      <th></th>\n",
              "      <th></th>\n",
              "      <th></th>\n",
              "      <th></th>\n",
              "      <th></th>\n",
              "      <th></th>\n",
              "      <th></th>\n",
              "    </tr>\n",
              "  </thead>\n",
              "  <tbody>\n",
              "    <tr>\n",
              "      <th>0</th>\n",
              "      <td>246178.00</td>\n",
              "      <td>5907.98</td>\n",
              "      <td>8603.39</td>\n",
              "      <td>-0.01</td>\n",
              "      <td>478.30</td>\n",
              "      <td>2415.43</td>\n",
              "      <td>7338.82</td>\n",
              "      <td>48842.99</td>\n",
              "    </tr>\n",
              "    <tr>\n",
              "      <th>1</th>\n",
              "      <td>7285.00</td>\n",
              "      <td>91826.61</td>\n",
              "      <td>58932.78</td>\n",
              "      <td>48854.56</td>\n",
              "      <td>57697.91</td>\n",
              "      <td>71642.31</td>\n",
              "      <td>101114.97</td>\n",
              "      <td>657705.63</td>\n",
              "    </tr>\n",
              "    <tr>\n",
              "      <th>2</th>\n",
              "      <td>20.00</td>\n",
              "      <td>1424063.18</td>\n",
              "      <td>731390.92</td>\n",
              "      <td>854562.73</td>\n",
              "      <td>918410.61</td>\n",
              "      <td>1097349.18</td>\n",
              "      <td>1655018.16</td>\n",
              "      <td>3801248.91</td>\n",
              "    </tr>\n",
              "    <tr>\n",
              "      <th>3</th>\n",
              "      <td>1.00</td>\n",
              "      <td>11859728.34</td>\n",
              "      <td>nan</td>\n",
              "      <td>11859728.34</td>\n",
              "      <td>11859728.34</td>\n",
              "      <td>11859728.34</td>\n",
              "      <td>11859728.34</td>\n",
              "      <td>11859728.34</td>\n",
              "    </tr>\n",
              "  </tbody>\n",
              "</table>\n",
              "</div>"
            ],
            "text/plain": [
              "                 Revenue                                                \\\n",
              "                   count        mean       std         min         25%   \n",
              "RevenueCluster                                                           \n",
              "0              246178.00     5907.98   8603.39       -0.01      478.30   \n",
              "1                7285.00    91826.61  58932.78    48854.56    57697.91   \n",
              "2                  20.00  1424063.18 731390.92   854562.73   918410.61   \n",
              "3                   1.00 11859728.34       nan 11859728.34 11859728.34   \n",
              "\n",
              "                                                    \n",
              "                       50%         75%         max  \n",
              "RevenueCluster                                      \n",
              "0                  2415.43     7338.82    48842.99  \n",
              "1                 71642.31   101114.97   657705.63  \n",
              "2               1097349.18  1655018.16  3801248.91  \n",
              "3              11859728.34 11859728.34 11859728.34  "
            ]
          },
          "metadata": {
            "tags": []
          },
          "execution_count": 91
        }
      ]
    },
    {
      "cell_type": "code",
      "metadata": {
        "id": "EHnngf1JZ54M",
        "colab_type": "code",
        "colab": {}
      },
      "source": [
        "merge = pd.merge(df_recency,df_freq, on='CustomerID')"
      ],
      "execution_count": 0,
      "outputs": []
    },
    {
      "cell_type": "code",
      "metadata": {
        "id": "9_P7gv7OadWu",
        "colab_type": "code",
        "colab": {}
      },
      "source": [
        "cust_seg = pd.merge(merge,df_rev, on='CustomerID')"
      ],
      "execution_count": 0,
      "outputs": []
    },
    {
      "cell_type": "code",
      "metadata": {
        "id": "jgyFNNwIasBS",
        "colab_type": "code",
        "colab": {}
      },
      "source": [
        "cust_seg['RFMScore'] = cust_seg['RevenueCluster'] + cust_seg['FrequencyCluster'] + cust_seg['RecencyCluster']"
      ],
      "execution_count": 0,
      "outputs": []
    },
    {
      "cell_type": "code",
      "metadata": {
        "id": "g9GyaMuLauUG",
        "colab_type": "code",
        "outputId": "4bec30fd-56d5-47de-ad1d-b1129bac8446",
        "colab": {
          "base_uri": "https://localhost:8080/",
          "height": 359
        }
      },
      "source": [
        "cust_seg.groupby('RFMScore')['Recency','Frequency','Revenue'].mean()"
      ],
      "execution_count": 95,
      "outputs": [
        {
          "output_type": "execute_result",
          "data": {
            "text/html": [
              "<div>\n",
              "<style scoped>\n",
              "    .dataframe tbody tr th:only-of-type {\n",
              "        vertical-align: middle;\n",
              "    }\n",
              "\n",
              "    .dataframe tbody tr th {\n",
              "        vertical-align: top;\n",
              "    }\n",
              "\n",
              "    .dataframe thead th {\n",
              "        text-align: right;\n",
              "    }\n",
              "</style>\n",
              "<table border=\"1\" class=\"dataframe\">\n",
              "  <thead>\n",
              "    <tr style=\"text-align: right;\">\n",
              "      <th></th>\n",
              "      <th>Recency</th>\n",
              "      <th>Frequency</th>\n",
              "      <th>Revenue</th>\n",
              "    </tr>\n",
              "    <tr>\n",
              "      <th>RFMScore</th>\n",
              "      <th></th>\n",
              "      <th></th>\n",
              "      <th></th>\n",
              "    </tr>\n",
              "  </thead>\n",
              "  <tbody>\n",
              "    <tr>\n",
              "      <th>0</th>\n",
              "      <td>1293.61</td>\n",
              "      <td>1.36</td>\n",
              "      <td>4944.36</td>\n",
              "    </tr>\n",
              "    <tr>\n",
              "      <th>1</th>\n",
              "      <td>891.26</td>\n",
              "      <td>1.58</td>\n",
              "      <td>5772.42</td>\n",
              "    </tr>\n",
              "    <tr>\n",
              "      <th>2</th>\n",
              "      <td>482.76</td>\n",
              "      <td>1.71</td>\n",
              "      <td>6979.32</td>\n",
              "    </tr>\n",
              "    <tr>\n",
              "      <th>3</th>\n",
              "      <td>130.87</td>\n",
              "      <td>1.72</td>\n",
              "      <td>6523.69</td>\n",
              "    </tr>\n",
              "    <tr>\n",
              "      <th>4</th>\n",
              "      <td>142.47</td>\n",
              "      <td>6.18</td>\n",
              "      <td>39242.23</td>\n",
              "    </tr>\n",
              "    <tr>\n",
              "      <th>5</th>\n",
              "      <td>114.59</td>\n",
              "      <td>10.84</td>\n",
              "      <td>97386.96</td>\n",
              "    </tr>\n",
              "    <tr>\n",
              "      <th>6</th>\n",
              "      <td>62.45</td>\n",
              "      <td>102.82</td>\n",
              "      <td>1208959.28</td>\n",
              "    </tr>\n",
              "    <tr>\n",
              "      <th>7</th>\n",
              "      <td>91.00</td>\n",
              "      <td>445.67</td>\n",
              "      <td>1874072.07</td>\n",
              "    </tr>\n",
              "    <tr>\n",
              "      <th>9</th>\n",
              "      <td>48.00</td>\n",
              "      <td>2668.00</td>\n",
              "      <td>11859728.34</td>\n",
              "    </tr>\n",
              "  </tbody>\n",
              "</table>\n",
              "</div>"
            ],
            "text/plain": [
              "          Recency  Frequency     Revenue\n",
              "RFMScore                                \n",
              "0         1293.61       1.36     4944.36\n",
              "1          891.26       1.58     5772.42\n",
              "2          482.76       1.71     6979.32\n",
              "3          130.87       1.72     6523.69\n",
              "4          142.47       6.18    39242.23\n",
              "5          114.59      10.84    97386.96\n",
              "6           62.45     102.82  1208959.28\n",
              "7           91.00     445.67  1874072.07\n",
              "9           48.00    2668.00 11859728.34"
            ]
          },
          "metadata": {
            "tags": []
          },
          "execution_count": 95
        }
      ]
    },
    {
      "cell_type": "code",
      "metadata": {
        "id": "fthzG2dJu_QA",
        "colab_type": "code",
        "colab": {}
      },
      "source": [
        "cust_seg['Segment'] = 'Low_Value'\n",
        "cust_seg.loc[cust_seg['RFMScore']>3,'Segment'] = 'Mid-Value' \n",
        "cust_seg.loc[cust_seg['RFMScore']>5,'Segment'] = 'High-Value' "
      ],
      "execution_count": 0,
      "outputs": []
    },
    {
      "cell_type": "code",
      "metadata": {
        "id": "XpnAVe_2sytg",
        "colab_type": "code",
        "outputId": "f474b52d-e072-498d-a9ad-77da6adb80a4",
        "colab": {
          "base_uri": "https://localhost:8080/",
          "height": 204
        }
      },
      "source": [
        "cust_seg.head()"
      ],
      "execution_count": 97,
      "outputs": [
        {
          "output_type": "execute_result",
          "data": {
            "text/html": [
              "<div>\n",
              "<style scoped>\n",
              "    .dataframe tbody tr th:only-of-type {\n",
              "        vertical-align: middle;\n",
              "    }\n",
              "\n",
              "    .dataframe tbody tr th {\n",
              "        vertical-align: top;\n",
              "    }\n",
              "\n",
              "    .dataframe thead th {\n",
              "        text-align: right;\n",
              "    }\n",
              "</style>\n",
              "<table border=\"1\" class=\"dataframe\">\n",
              "  <thead>\n",
              "    <tr style=\"text-align: right;\">\n",
              "      <th></th>\n",
              "      <th>CustomerID</th>\n",
              "      <th>MaxPurchaseDate</th>\n",
              "      <th>Recency</th>\n",
              "      <th>RecencyCluster</th>\n",
              "      <th>Frequency</th>\n",
              "      <th>FrequencyCluster</th>\n",
              "      <th>Revenue</th>\n",
              "      <th>RevenueCluster</th>\n",
              "      <th>RFMScore</th>\n",
              "      <th>Segment</th>\n",
              "    </tr>\n",
              "  </thead>\n",
              "  <tbody>\n",
              "    <tr>\n",
              "      <th>0</th>\n",
              "      <td>1</td>\n",
              "      <td>2013-03-30</td>\n",
              "      <td>1311</td>\n",
              "      <td>0</td>\n",
              "      <td>4</td>\n",
              "      <td>0</td>\n",
              "      <td>0.00</td>\n",
              "      <td>0</td>\n",
              "      <td>0</td>\n",
              "      <td>Low_Value</td>\n",
              "    </tr>\n",
              "    <tr>\n",
              "      <th>1</th>\n",
              "      <td>10</td>\n",
              "      <td>2013-06-17</td>\n",
              "      <td>1232</td>\n",
              "      <td>0</td>\n",
              "      <td>5</td>\n",
              "      <td>1</td>\n",
              "      <td>11105.56</td>\n",
              "      <td>0</td>\n",
              "      <td>1</td>\n",
              "      <td>Low_Value</td>\n",
              "    </tr>\n",
              "    <tr>\n",
              "      <th>2</th>\n",
              "      <td>100</td>\n",
              "      <td>2012-09-12</td>\n",
              "      <td>1510</td>\n",
              "      <td>0</td>\n",
              "      <td>2</td>\n",
              "      <td>0</td>\n",
              "      <td>20799.74</td>\n",
              "      <td>0</td>\n",
              "      <td>0</td>\n",
              "      <td>Low_Value</td>\n",
              "    </tr>\n",
              "    <tr>\n",
              "      <th>3</th>\n",
              "      <td>10002</td>\n",
              "      <td>2013-02-10</td>\n",
              "      <td>1359</td>\n",
              "      <td>0</td>\n",
              "      <td>1</td>\n",
              "      <td>0</td>\n",
              "      <td>1828.56</td>\n",
              "      <td>0</td>\n",
              "      <td>0</td>\n",
              "      <td>Low_Value</td>\n",
              "    </tr>\n",
              "    <tr>\n",
              "      <th>4</th>\n",
              "      <td>10004</td>\n",
              "      <td>2013-02-10</td>\n",
              "      <td>1359</td>\n",
              "      <td>0</td>\n",
              "      <td>1</td>\n",
              "      <td>0</td>\n",
              "      <td>750.30</td>\n",
              "      <td>0</td>\n",
              "      <td>0</td>\n",
              "      <td>Low_Value</td>\n",
              "    </tr>\n",
              "  </tbody>\n",
              "</table>\n",
              "</div>"
            ],
            "text/plain": [
              "  CustomerID MaxPurchaseDate  Recency  RecencyCluster  Frequency  \\\n",
              "0          1      2013-03-30     1311               0          4   \n",
              "1         10      2013-06-17     1232               0          5   \n",
              "2        100      2012-09-12     1510               0          2   \n",
              "3      10002      2013-02-10     1359               0          1   \n",
              "4      10004      2013-02-10     1359               0          1   \n",
              "\n",
              "   FrequencyCluster  Revenue  RevenueCluster  RFMScore    Segment  \n",
              "0                 0     0.00               0         0  Low_Value  \n",
              "1                 1 11105.56               0         1  Low_Value  \n",
              "2                 0 20799.74               0         0  Low_Value  \n",
              "3                 0  1828.56               0         0  Low_Value  \n",
              "4                 0   750.30               0         0  Low_Value  "
            ]
          },
          "metadata": {
            "tags": []
          },
          "execution_count": 97
        }
      ]
    },
    {
      "cell_type": "code",
      "metadata": {
        "id": "GsDjzc_Gjdpq",
        "colab_type": "code",
        "colab": {}
      },
      "source": [
        "cust_seg_vis = cust_seg[['Recency','Frequency','Revenue','Segment']]"
      ],
      "execution_count": 0,
      "outputs": []
    },
    {
      "cell_type": "code",
      "metadata": {
        "id": "V6YWNce-AHOu",
        "colab_type": "code",
        "outputId": "7e173b30-44c0-48e1-d9bf-8658cb3fa100",
        "colab": {
          "base_uri": "https://localhost:8080/",
          "height": 545
        }
      },
      "source": [
        "sns.pairplot(cust_seg_vis, hue='Segment')\n",
        "plt.show()"
      ],
      "execution_count": 99,
      "outputs": [
        {
          "output_type": "display_data",
          "data": {
            "image/png": "[encoded data removed]",
            "text/plain": [
              "<Figure size 631.125x540 with 12 Axes>"
            ]
          },
          "metadata": {
            "tags": []
          }
        }
      ]
    },
    {
      "cell_type": "code",
      "metadata": {
        "id": "RfckIbLOdTKM",
        "colab_type": "code",
        "outputId": "7661b0ea-a0cd-463f-9b5d-6d215b89ec84",
        "colab": {
          "base_uri": "https://localhost:8080/",
          "height": 204
        }
      },
      "source": [
        "cust_seg.head(5)"
      ],
      "execution_count": 100,
      "outputs": [
        {
          "output_type": "execute_result",
          "data": {
            "text/html": [
              "<div>\n",
              "<style scoped>\n",
              "    .dataframe tbody tr th:only-of-type {\n",
              "        vertical-align: middle;\n",
              "    }\n",
              "\n",
              "    .dataframe tbody tr th {\n",
              "        vertical-align: top;\n",
              "    }\n",
              "\n",
              "    .dataframe thead th {\n",
              "        text-align: right;\n",
              "    }\n",
              "</style>\n",
              "<table border=\"1\" class=\"dataframe\">\n",
              "  <thead>\n",
              "    <tr style=\"text-align: right;\">\n",
              "      <th></th>\n",
              "      <th>CustomerID</th>\n",
              "      <th>MaxPurchaseDate</th>\n",
              "      <th>Recency</th>\n",
              "      <th>RecencyCluster</th>\n",
              "      <th>Frequency</th>\n",
              "      <th>FrequencyCluster</th>\n",
              "      <th>Revenue</th>\n",
              "      <th>RevenueCluster</th>\n",
              "      <th>RFMScore</th>\n",
              "      <th>Segment</th>\n",
              "    </tr>\n",
              "  </thead>\n",
              "  <tbody>\n",
              "    <tr>\n",
              "      <th>0</th>\n",
              "      <td>1</td>\n",
              "      <td>2013-03-30</td>\n",
              "      <td>1311</td>\n",
              "      <td>0</td>\n",
              "      <td>4</td>\n",
              "      <td>0</td>\n",
              "      <td>0.00</td>\n",
              "      <td>0</td>\n",
              "      <td>0</td>\n",
              "      <td>Low_Value</td>\n",
              "    </tr>\n",
              "    <tr>\n",
              "      <th>1</th>\n",
              "      <td>10</td>\n",
              "      <td>2013-06-17</td>\n",
              "      <td>1232</td>\n",
              "      <td>0</td>\n",
              "      <td>5</td>\n",
              "      <td>1</td>\n",
              "      <td>11105.56</td>\n",
              "      <td>0</td>\n",
              "      <td>1</td>\n",
              "      <td>Low_Value</td>\n",
              "    </tr>\n",
              "    <tr>\n",
              "      <th>2</th>\n",
              "      <td>100</td>\n",
              "      <td>2012-09-12</td>\n",
              "      <td>1510</td>\n",
              "      <td>0</td>\n",
              "      <td>2</td>\n",
              "      <td>0</td>\n",
              "      <td>20799.74</td>\n",
              "      <td>0</td>\n",
              "      <td>0</td>\n",
              "      <td>Low_Value</td>\n",
              "    </tr>\n",
              "    <tr>\n",
              "      <th>3</th>\n",
              "      <td>10002</td>\n",
              "      <td>2013-02-10</td>\n",
              "      <td>1359</td>\n",
              "      <td>0</td>\n",
              "      <td>1</td>\n",
              "      <td>0</td>\n",
              "      <td>1828.56</td>\n",
              "      <td>0</td>\n",
              "      <td>0</td>\n",
              "      <td>Low_Value</td>\n",
              "    </tr>\n",
              "    <tr>\n",
              "      <th>4</th>\n",
              "      <td>10004</td>\n",
              "      <td>2013-02-10</td>\n",
              "      <td>1359</td>\n",
              "      <td>0</td>\n",
              "      <td>1</td>\n",
              "      <td>0</td>\n",
              "      <td>750.30</td>\n",
              "      <td>0</td>\n",
              "      <td>0</td>\n",
              "      <td>Low_Value</td>\n",
              "    </tr>\n",
              "  </tbody>\n",
              "</table>\n",
              "</div>"
            ],
            "text/plain": [
              "  CustomerID MaxPurchaseDate  Recency  RecencyCluster  Frequency  \\\n",
              "0          1      2013-03-30     1311               0          4   \n",
              "1         10      2013-06-17     1232               0          5   \n",
              "2        100      2012-09-12     1510               0          2   \n",
              "3      10002      2013-02-10     1359               0          1   \n",
              "4      10004      2013-02-10     1359               0          1   \n",
              "\n",
              "   FrequencyCluster  Revenue  RevenueCluster  RFMScore    Segment  \n",
              "0                 0     0.00               0         0  Low_Value  \n",
              "1                 1 11105.56               0         1  Low_Value  \n",
              "2                 0 20799.74               0         0  Low_Value  \n",
              "3                 0  1828.56               0         0  Low_Value  \n",
              "4                 0   750.30               0         0  Low_Value  "
            ]
          },
          "metadata": {
            "tags": []
          },
          "execution_count": 100
        }
      ]
    },
    {
      "cell_type": "code",
      "metadata": {
        "id": "cTwij8k_fihx",
        "colab_type": "code",
        "colab": {}
      },
      "source": [
        "revenue_mean = cust_seg.groupby('Segment')['Revenue'].mean()"
      ],
      "execution_count": 0,
      "outputs": []
    },
    {
      "cell_type": "code",
      "metadata": {
        "id": "B45v7aJRjsn5",
        "colab_type": "code",
        "outputId": "cb03320a-9c6e-4a44-8548-a5f0801cbd41",
        "colab": {
          "base_uri": "https://localhost:8080/",
          "height": 102
        }
      },
      "source": [
        "revenue_mean"
      ],
      "execution_count": 102,
      "outputs": [
        {
          "output_type": "execute_result",
          "data": {
            "text/plain": [
              "Segment\n",
              "High-Value   2022372.93\n",
              "Low_Value       6367.36\n",
              "Mid-Value      47403.22\n",
              "Name: Revenue, dtype: float64"
            ]
          },
          "metadata": {
            "tags": []
          },
          "execution_count": 102
        }
      ]
    },
    {
      "cell_type": "code",
      "metadata": {
        "id": "xVDEELzDX-1e",
        "colab_type": "code",
        "colab": {}
      },
      "source": [
        "#Assuming lifespan of a car to be 10 years below is CLV prediction of each segment'\n",
        "total_period = (df_new['Invoice Date'].max() - df_new['Invoice Date'].min()).days\n",
        "CLV = (revenue_mean/ total_period *3650).sort_values(ascending=False)"
      ],
      "execution_count": 0,
      "outputs": []
    },
    {
      "cell_type": "code",
      "metadata": {
        "id": "1Ag7mFazjPEB",
        "colab_type": "code",
        "outputId": "ef889794-e543-4c16-c8d5-e8add25475eb",
        "colab": {
          "base_uri": "https://localhost:8080/",
          "height": 102
        }
      },
      "source": [
        "print(CLV)"
      ],
      "execution_count": 104,
      "outputs": [
        {
          "output_type": "stream",
          "text": [
            "Segment\n",
            "High-Value   4412230.25\n",
            "Mid-Value     103420.05\n",
            "Low_Value      13891.74\n",
            "Name: Revenue, dtype: float64\n"
          ],
          "name": "stdout"
        }
      ]
    },
    {
      "cell_type": "code",
      "metadata": {
        "id": "SRJas9Gojo5y",
        "colab_type": "code",
        "colab": {}
      },
      "source": [
        ""
      ],
      "execution_count": 0,
      "outputs": []
    },
    {
      "cell_type": "code",
      "metadata": {
        "id": "Nl8LzuSFi016",
        "colab_type": "code",
        "colab": {}
      },
      "source": [
        ""
      ],
      "execution_count": 0,
      "outputs": []
    }
  ]
}